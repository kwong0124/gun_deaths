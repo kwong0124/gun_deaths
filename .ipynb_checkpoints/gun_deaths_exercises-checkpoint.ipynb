{
 "cells": [
  {
   "cell_type": "markdown",
   "metadata": {},
   "source": [
    "## US Gun Deaths Data Set\n",
    "\n",
    "[Original article by FiveThirtyEight about Guns](http://fivethirtyeight.com/features/gun-deaths/)\n",
    "\n",
    "The data set contains cleaned gun-death data from the CDC for 2012-2014."
   ]
  },
  {
   "cell_type": "markdown",
   "metadata": {},
   "source": [
    "### Exercise 1 - What do the first 5 rows of the CSV file contain?"
   ]
  },
  {
   "cell_type": "code",
   "execution_count": 78,
   "metadata": {
    "collapsed": false
   },
   "outputs": [
    {
     "data": {
      "text/plain": [
       "[['',\n",
       "  'year',\n",
       "  'month',\n",
       "  'intent',\n",
       "  'police',\n",
       "  'sex',\n",
       "  'age',\n",
       "  'race',\n",
       "  'hispanic',\n",
       "  'place',\n",
       "  'education'],\n",
       " [1, 2012, 1, 'Suicide', 0, 'M', 34, 'Asian/Pacific Islander', 100, 'Home', 4],\n",
       " [2, 2012, 1, 'Suicide', 0, 'F', 21, 'White', 100, 'Street', 3],\n",
       " [3, 2012, 1, 'Suicide', 0, 'M', 60, 'White', 100, 'Other specified', 4],\n",
       " [4, 2012, 2, 'Suicide', 0, 'M', 64, 'White', 100, 'Home', 4]]"
      ]
     },
     "execution_count": 78,
     "metadata": {},
     "output_type": "execute_result"
    }
   ],
   "source": [
    "def csv_list(filename):\n",
    "    string_data = open(filename).read()\n",
    "    data_list = string_data.split('\\n')\n",
    "    \n",
    "    final_list = []\n",
    "    \n",
    "    for row in data_list:\n",
    "        \n",
    "        fields = row.split(',')\n",
    "        int_fields = []\n",
    "        \n",
    "        for item in fields:\n",
    "            try:\n",
    "                int_fields.append(int(item))\n",
    "            except:\n",
    "                int_fields.append(item)\n",
    "            \n",
    "        final_list.append(int_fields)\n",
    "        \n",
    "    return final_list\n",
    "\n",
    "data = csv_list('guns.csv')\n",
    "data[:5]"
   ]
  },
  {
   "cell_type": "markdown",
   "metadata": {},
   "source": [
    "### Exercise 2 - Separate the header row and the data set it 2 separate lists."
   ]
  },
  {
   "cell_type": "code",
   "execution_count": 79,
   "metadata": {
    "collapsed": false
   },
   "outputs": [
    {
     "name": "stdout",
     "output_type": "stream",
     "text": [
      "header =  [['', 'year', 'month', 'intent', 'police', 'sex', 'age', 'race', 'hispanic', 'place', 'education']]\n"
     ]
    },
    {
     "data": {
      "text/plain": [
       "[[1, 2012, 1, 'Suicide', 0, 'M', 34, 'Asian/Pacific Islander', 100, 'Home', 4],\n",
       " [2, 2012, 1, 'Suicide', 0, 'F', 21, 'White', 100, 'Street', 3],\n",
       " [3, 2012, 1, 'Suicide', 0, 'M', 60, 'White', 100, 'Other specified', 4],\n",
       " [4, 2012, 2, 'Suicide', 0, 'M', 64, 'White', 100, 'Home', 4],\n",
       " [5, 2012, 2, 'Suicide', 0, 'M', 31, 'White', 100, 'Other specified', 2]]"
      ]
     },
     "execution_count": 79,
     "metadata": {},
     "output_type": "execute_result"
    }
   ],
   "source": [
    "header = data[:1]   \n",
    "gun_data = data[1:]\n",
    "\n",
    "print('header = ', header)\n",
    "gun_data[:5]\n"
   ]
  },
  {
   "cell_type": "markdown",
   "metadata": {},
   "source": [
    "### Excercise 3 - How many gun deaths are there by year? By month and year?"
   ]
  },
  {
   "cell_type": "code",
   "execution_count": 80,
   "metadata": {
    "collapsed": false
   },
   "outputs": [],
   "source": [
    "def gun_deaths(data, col_num):\n",
    "    \n",
    "    sum_dict = {}\n",
    "    \n",
    "    for item in data:\n",
    "        \n",
    "        category = item[col_num]\n",
    "        \n",
    "        if category in sum_dict:\n",
    "            sum_dict[category] = sum_dict[category] + 1\n",
    "        else:\n",
    "            sum_dict[category] = 1\n",
    "            \n",
    "    return sum_dict        "
   ]
  },
  {
   "cell_type": "code",
   "execution_count": 81,
   "metadata": {
    "collapsed": false
   },
   "outputs": [
    {
     "data": {
      "text/plain": [
       "{2012: 33563, 2013: 33636, 2014: 33599}"
      ]
     },
     "execution_count": 81,
     "metadata": {},
     "output_type": "execute_result"
    }
   ],
   "source": [
    "deaths_per_year = gun_deaths(gun_data, 1)\n",
    "deaths_per_year\n"
   ]
  },
  {
   "cell_type": "code",
   "execution_count": 82,
   "metadata": {
    "collapsed": false
   },
   "outputs": [
    {
     "data": {
      "text/plain": [
       "{1: 8273,\n",
       " 2: 7093,\n",
       " 3: 8289,\n",
       " 4: 8455,\n",
       " 5: 8669,\n",
       " 6: 8677,\n",
       " 7: 8989,\n",
       " 8: 8783,\n",
       " 9: 8508,\n",
       " 10: 8406,\n",
       " 11: 8243,\n",
       " 12: 8413}"
      ]
     },
     "execution_count": 82,
     "metadata": {},
     "output_type": "execute_result"
    }
   ],
   "source": [
    "deaths_per_month = gun_deaths(gun_data, 2)\n",
    "deaths_per_month"
   ]
  },
  {
   "cell_type": "code",
   "execution_count": 83,
   "metadata": {
    "collapsed": false
   },
   "outputs": [],
   "source": [
    "def gun_death_mo_yr(data):\n",
    "\n",
    "    sum_dict = {}\n",
    "    month_dict = {1: 'Jan', 2:'Feb', 3:'Mar', 4:'Apr', 5:'May', 6:'Jun', 7:'Jul', 8:'Aug', 9:'Sep', 10:'Oct', 11:'Nov', 12:'Dec'}\n",
    "    \n",
    "    for row in data:\n",
    "        year = row[1]\n",
    "        month = month_dict[row[2]]\n",
    "        \n",
    "        value = '{}, {}'.format(year, month)\n",
    "        \n",
    "        if value in sum_dict:\n",
    "            sum_dict[value] +=1\n",
    "        else:\n",
    "            sum_dict[value] = 1\n",
    "    return sum_dict"
   ]
  },
  {
   "cell_type": "code",
   "execution_count": 84,
   "metadata": {
    "collapsed": false
   },
   "outputs": [
    {
     "data": {
      "text/plain": [
       "{'2012, Apr': 2795,\n",
       " '2012, Aug': 2954,\n",
       " '2012, Dec': 2791,\n",
       " '2012, Feb': 2357,\n",
       " '2012, Jan': 2758,\n",
       " '2012, Jul': 3026,\n",
       " '2012, Jun': 2826,\n",
       " '2012, Mar': 2743,\n",
       " '2012, May': 2999,\n",
       " '2012, Nov': 2729,\n",
       " '2012, Oct': 2733,\n",
       " '2012, Sep': 2852,\n",
       " '2013, Apr': 2798,\n",
       " '2013, Aug': 2859,\n",
       " '2013, Dec': 2765,\n",
       " '2013, Feb': 2375,\n",
       " '2013, Jan': 2864,\n",
       " '2013, Jul': 3079,\n",
       " '2013, Jun': 2920,\n",
       " '2013, Mar': 2862,\n",
       " '2013, May': 2806,\n",
       " '2013, Nov': 2758,\n",
       " '2013, Oct': 2808,\n",
       " '2013, Sep': 2742,\n",
       " '2014, Apr': 2862,\n",
       " '2014, Aug': 2970,\n",
       " '2014, Dec': 2857,\n",
       " '2014, Feb': 2361,\n",
       " '2014, Jan': 2651,\n",
       " '2014, Jul': 2884,\n",
       " '2014, Jun': 2931,\n",
       " '2014, Mar': 2684,\n",
       " '2014, May': 2864,\n",
       " '2014, Nov': 2756,\n",
       " '2014, Oct': 2865,\n",
       " '2014, Sep': 2914}"
      ]
     },
     "execution_count": 84,
     "metadata": {},
     "output_type": "execute_result"
    }
   ],
   "source": [
    "month_year = gun_death_mo_yr(gun_data)\n",
    "month_year"
   ]
  },
  {
   "cell_type": "markdown",
   "metadata": {},
   "source": [
    "### Exercise 4 -  How many gun deaths are there by sex? By race?"
   ]
  },
  {
   "cell_type": "code",
   "execution_count": 85,
   "metadata": {
    "collapsed": false
   },
   "outputs": [
    {
     "data": {
      "text/plain": [
       "{'F': 14449, 'M': 86349}"
      ]
     },
     "execution_count": 85,
     "metadata": {},
     "output_type": "execute_result"
    }
   ],
   "source": [
    "death_by_sex = gun_deaths(gun_data, 5)\n",
    "death_by_sex"
   ]
  },
  {
   "cell_type": "code",
   "execution_count": 86,
   "metadata": {
    "collapsed": false
   },
   "outputs": [
    {
     "data": {
      "text/plain": [
       "{'Asian/Pacific Islander': 1326,\n",
       " 'Black': 23296,\n",
       " 'Hispanic': 9022,\n",
       " 'Native American/Native Alaskan': 917,\n",
       " 'White': 66237}"
      ]
     },
     "execution_count": 86,
     "metadata": {},
     "output_type": "execute_result"
    }
   ],
   "source": [
    "death_by_race = gun_deaths(gun_data, 7)\n",
    "death_by_race"
   ]
  },
  {
   "cell_type": "markdown",
   "metadata": {},
   "source": [
    "### Exercise 5 - Compute the rates of gun deaths per race per 100,000 people. Here is a [reference table of the US population](http://www.infoplease.com/ipa/A0762156.html). How does the rates of gun death compare to the racial breakdown of the United States?"
   ]
  },
  {
   "cell_type": "code",
   "execution_count": 87,
   "metadata": {
    "collapsed": false
   },
   "outputs": [],
   "source": [
    "us_pop_dict = {'Asian/Pacific Islander':14946700, 'Black':37685848, 'Hispanic':50477594, 'Native American/Native Alaskan':2247098, 'White':196817552} \n",
    "\n",
    "def death_per_100k(race_dict, pop_dict=us_pop_dict):\n",
    "    \n",
    "    death_per_100k = {}\n",
    "    \n",
    "    for key, value in race_dict.items():\n",
    "        num_deaths = value\n",
    "        population = pop_dict[key]\n",
    "\n",
    "        death_per_100k[key] = int(num_deaths/population*100000)\n",
    "\n",
    "    return death_per_100k\n",
    "        \n"
   ]
  },
  {
   "cell_type": "code",
   "execution_count": 88,
   "metadata": {
    "collapsed": false
   },
   "outputs": [
    {
     "name": "stdout",
     "output_type": "stream",
     "text": [
      "Asian/Pacific Islander: 8\n",
      "White: 33\n",
      "Native American/Native Alaskan: 40\n",
      "Black: 61\n",
      "Hispanic: 17\n"
     ]
    }
   ],
   "source": [
    "gun_death_rates = death_per_100k(death_by_race)"
   ]
  },
  {
   "cell_type": "code",
   "execution_count": 89,
   "metadata": {
    "collapsed": true
   },
   "outputs": [],
   "source": [
    "# Blacks experience the highest rate of gun deaths, while Asians and Hispanics experience the lowest rates of gun deaths"
   ]
  },
  {
   "cell_type": "markdown",
   "metadata": {},
   "source": [
    "### Exercise 6 - Almost half of all gun deaths are suicide. Redo the previous computation twice. The first time look at the rates of gun death marked as \"Homicide\", and the second time look at the rates of gun deaths marked as \"Suicide\". What potential questions does this bring up?"
   ]
  },
  {
   "cell_type": "code",
   "execution_count": 90,
   "metadata": {
    "collapsed": true
   },
   "outputs": [],
   "source": [
    "def death_race_type(data, col_num, type):\n",
    "    \n",
    "    sum_dict = {}\n",
    "    \n",
    "    for row in data:\n",
    "        race = row[col_num]\n",
    "        intent = row[3]\n",
    "        \n",
    "        if intent == type:\n",
    "            if race in sum_dict:\n",
    "                sum_dict[race] +=1\n",
    "            else:\n",
    "                sum_dict[race] = 1\n",
    "        else:\n",
    "            pass\n",
    "\n",
    "    return sum_dict"
   ]
  },
  {
   "cell_type": "code",
   "execution_count": 91,
   "metadata": {
    "collapsed": false
   },
   "outputs": [],
   "source": [
    "suicides = death_race_type(gun_data, 7, 'Suicide')\n",
    "homicides = death_race_type(gun_data, 7, 'Homicide')"
   ]
  },
  {
   "cell_type": "code",
   "execution_count": 97,
   "metadata": {
    "collapsed": false
   },
   "outputs": [
    {
     "name": "stdout",
     "output_type": "stream",
     "text": [
      "Asian/Pacific Islander: 4\n",
      "White: 28\n",
      "Native American/Native Alaskan: 24\n",
      "Black: 8\n",
      "Hispanic: 6\n"
     ]
    }
   ],
   "source": [
    "suicide_per_100k = death_per_100k(suicides)"
   ]
  },
  {
   "cell_type": "code",
   "execution_count": 96,
   "metadata": {
    "collapsed": false
   },
   "outputs": [
    {
     "name": "stdout",
     "output_type": "stream",
     "text": [
      "White: 4\n",
      "Asian/Pacific Islander: 3\n",
      "Black: 51\n",
      "Native American/Native Alaskan: 14\n",
      "Hispanic: 11\n"
     ]
    }
   ],
   "source": [
    "homicide_per_100k = death_per_100k(homicides)"
   ]
  }
 ],
 "metadata": {
  "anaconda-cloud": {},
  "kernelspec": {
   "display_name": "Python 3",
   "language": "python",
   "name": "python3"
  },
  "language_info": {
   "codemirror_mode": {
    "name": "ipython",
    "version": 3
   },
   "file_extension": ".py",
   "mimetype": "text/x-python",
   "name": "python",
   "nbconvert_exporter": "python",
   "pygments_lexer": "ipython3",
   "version": "3.6.0"
  }
 },
 "nbformat": 4,
 "nbformat_minor": 0
}
